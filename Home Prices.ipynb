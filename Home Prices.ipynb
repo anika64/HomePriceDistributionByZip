{
 "cells": [
  {
   "cell_type": "code",
   "execution_count": 1,
   "metadata": {},
   "outputs": [],
   "source": [
    "#import\n",
    "import numpy as np\n",
    "import pandas as pd\n",
    "from array import *\n",
    "import matplotlib.pyplot as plt\n",
    "from collections import Counter\n",
    "\n",
    "\n",
    "# reading zip by population\n",
    "popbyzip = pd.read_csv('PopbyZip.csv')\n",
    "np.popbyzip = np.array(popbyzip)"
   ]
  },
  {
   "cell_type": "code",
   "execution_count": 2,
   "metadata": {},
   "outputs": [],
   "source": [
    "# print(np.popbyzip)"
   ]
  },
  {
   "cell_type": "code",
   "execution_count": 3,
   "metadata": {},
   "outputs": [
    {
     "name": "stdout",
     "output_type": "stream",
     "text": [
      "[[  950.     0.]\n",
      " [  951.     0.]\n",
      " [ 1199.     0.]\n",
      " ...\n",
      " [96950.    nan]\n",
      " [96951.    nan]\n",
      " [96952.    nan]]\n"
     ]
    }
   ],
   "source": [
    "# only zip, pop, county, state\n",
    "zip_pop = popbyzip[['zip', 'population']]\n",
    "np.zip_pop = np.array(zip_pop)\n",
    "print(np.zip_pop)"
   ]
  },
  {
   "cell_type": "code",
   "execution_count": 4,
   "metadata": {},
   "outputs": [],
   "source": [
    "# reading most expensive zips\n",
    "exp_zip = pd.read_csv('Most Expensive Zips.csv')\n",
    "np.exp_zip = np.array(exp_zip)"
   ]
  },
  {
   "cell_type": "code",
   "execution_count": 5,
   "metadata": {},
   "outputs": [],
   "source": [
    "# print(np.exp_zip)"
   ]
  },
  {
   "cell_type": "code",
   "execution_count": null,
   "metadata": {},
   "outputs": [],
   "source": []
  },
  {
   "cell_type": "code",
   "execution_count": 6,
   "metadata": {},
   "outputs": [],
   "source": [
    "#rename columns\n",
    "dicti = {'Zip':'zip', 'Price':'price', 'City':'city', 'County':'county', 'State':'state'}\n",
    "exp_zip.rename(columns = dicti, inplace = True)"
   ]
  },
  {
   "cell_type": "code",
   "execution_count": 7,
   "metadata": {},
   "outputs": [],
   "source": [
    "#merge df\n",
    "merged_zips = exp_zip.merge(zip_pop)\n",
    "#print(merged_zips)"
   ]
  },
  {
   "cell_type": "code",
   "execution_count": 8,
   "metadata": {},
   "outputs": [
    {
     "name": "stdout",
     "output_type": "stream",
     "text": [
      "    Unnamed: 0    zip              city                county state  \\\n",
      "2            3  11962        Sagaponack        Suffolk County    NY   \n",
      "4            5  33109       Miami Beach     Miami-Dade County    FL   \n",
      "13          14  90742  Huntington Beach         Orange County    CA   \n",
      "15          16  94970     Stinson Beach          Marin County    CA   \n",
      "23          23  21056     Gibson Island   Anne Arundel County    MD   \n",
      "26          26  94528            Diablo   Contra Costa County    CA   \n",
      "29          29  89413         Glenbrook        Douglas County    NV   \n",
      "35          34  11975         Wainscott        Suffolk County    NY   \n",
      "38          37  11930        Amagansett        Suffolk County    NY   \n",
      "39          38  11959            Quogue        Suffolk County    NY   \n",
      "42          39  89402       Crystal Bay         Washoe County    NV   \n",
      "51          48  93067        Summerland  Santa Barbara County    CA   \n",
      "\n",
      "          price  population  \n",
      "2   $5,000,000        324.0  \n",
      "4   $4,475,000        408.0  \n",
      "13  $3,625,000        692.0  \n",
      "15  $3,500,000        698.0  \n",
      "23  $3,195,000        158.0  \n",
      "26  $3,100,000        384.0  \n",
      "29  $3,000,000        725.0  \n",
      "35  $2,750,000        272.0  \n",
      "38  $2,645,000        882.0  \n",
      "39  $2,593,000        545.0  \n",
      "42  $2,500,000         16.0  \n",
      "51  $2,190,000        410.0  \n"
     ]
    }
   ],
   "source": [
    "#find pop <1k\n",
    "\n",
    "pop1k = merged_zips.loc[merged_zips['population'] <= 1000]\n",
    "print(pop1k)"
   ]
  },
  {
   "cell_type": "code",
   "execution_count": 9,
   "metadata": {},
   "outputs": [
    {
     "name": "stdout",
     "output_type": "stream",
     "text": [
      "     Unnamed: 0    zip               city              county state  \\\n",
      "1             2   2199             Boston      Suffolk County    MA   \n",
      "3             4  94957               Ross        Marin County    CA   \n",
      "9            10  98039             Medina         King County    WA   \n",
      "12           13  11976         Water Mill      Suffolk County    NY   \n",
      "14           15  92662      Newport Beach       Orange County    CA   \n",
      "19           20  92661      Newport Beach       Orange County    CA   \n",
      "31           31  11932      Bridgehampton      Suffolk County    NY   \n",
      "34           34  93953       Pebble Beach     Monterey County    CA   \n",
      "50           47  93921  Carmel By The Sea     Monterey County    CA   \n",
      "59           55  93920            Big Sur     Monterey County    CA   \n",
      "64           58   7620             Alpine       Bergen County    NJ   \n",
      "65           58  91008           Bradbury  Los Angeles County    CA   \n",
      "72           62  11568       Old Westbury       Nassau County    NY   \n",
      "85           70   8750           Sea Girt     Monmouth County    NJ   \n",
      "112          91   2108             Boston      Suffolk County    MA   \n",
      "113          92   8202             Avalon     Cape May County    NJ   \n",
      "114          93   2535           Chilmark        Dukes County    MA   \n",
      "\n",
      "           price  population  \n",
      "1    $5,500,000       1157.0  \n",
      "3    $4,583,000       1219.0  \n",
      "9    $4,000,000       3267.0  \n",
      "12   $3,745,000       1679.0  \n",
      "14   $3,577,000       2519.0  \n",
      "19   $3,293,000       3445.0  \n",
      "31   $2,963,000       1120.0  \n",
      "34   $2,750,000       4028.0  \n",
      "50   $2,300,000       3316.0  \n",
      "59   $2,100,000       1545.0  \n",
      "64   $2,000,000       1547.0  \n",
      "65   $2,000,000       1084.0  \n",
      "72   $1,950,000       4548.0  \n",
      "85   $1,892,000       3017.0  \n",
      "112  $1,673,000       4454.0  \n",
      "113  $1,670,000       1527.0  \n",
      "114  $1,663,000       1753.0  \n"
     ]
    }
   ],
   "source": [
    "# find pop 1-5k\n",
    "pop5k = merged_zips.loc[merged_zips['population'] <= 5000]\n",
    "pop1to5k = pop5k.loc[pop5k['population'] > 1000]\n",
    "print(pop1to5k)"
   ]
  },
  {
   "cell_type": "code",
   "execution_count": 10,
   "metadata": {},
   "outputs": [
    {
     "name": "stdout",
     "output_type": "stream",
     "text": [
      "     Unnamed: 0    zip             city              county state  \\\n",
      "0             1  94027         Atherton    San Mateo County    CA   \n",
      "16           17  94028   Portola Valley    San Mateo County    CA   \n",
      "17           18  92067  Rancho Santa Fe    San Diego County    CA   \n",
      "18           19  92657    Newport Beach       Orange County    CA   \n",
      "25           25  10007         New York     New York County    NY   \n",
      "36           35  10282         New York     New York County    NY   \n",
      "45           42  90077      Los Angeles  Los Angeles County    CA   \n",
      "70           60   6878        Riverside    Fairfield County    CT   \n",
      "84           69  11963       Sag Harbor      Suffolk County    NY   \n",
      "89           73  94939         Larkspur        Marin County    CA   \n",
      "90           74  90211    Beverly Hills  Los Angeles County    CA   \n",
      "99           80   6870    Old Greenwich    Fairfield County    CT   \n",
      "108          88  10577         Purchase  Westchester County    NY   \n",
      "109          89   2468            Waban    Middlesex County    MA   \n",
      "115          93  10069         New York     New York County    NY   \n",
      "119          95  94574     Saint Helena         Napa County    CA   \n",
      "120          95  92861       Villa Park       Orange County    CA   \n",
      "\n",
      "           price  population  \n",
      "0    $7,475,000       7415.0  \n",
      "16   $3,400,000       7125.0  \n",
      "17   $3,399,000       7724.0  \n",
      "18   $3,365,000       9802.0  \n",
      "25   $3,125,000       7408.0  \n",
      "36   $2,725,000       5783.0  \n",
      "45   $2,460,000       8382.0  \n",
      "70   $1,980,000       8112.0  \n",
      "84   $1,900,000       7161.0  \n",
      "89   $1,860,000       6747.0  \n",
      "90   $1,850,000       8019.0  \n",
      "99   $1,807,000       7642.0  \n",
      "108  $1,700,000       6356.0  \n",
      "109  $1,695,000       5623.0  \n",
      "115  $1,663,000       6051.0  \n",
      "119  $1,650,000       8757.0  \n",
      "120  $1,650,000       5822.0  \n"
     ]
    }
   ],
   "source": [
    "# find pop 5-10k\n",
    "pop10k = merged_zips.loc[merged_zips['population'] <= 10000]\n",
    "pop5to10k = pop10k.loc[pop10k['population'] > 5000]\n",
    "print(pop5to10k)"
   ]
  },
  {
   "cell_type": "code",
   "execution_count": 11,
   "metadata": {},
   "outputs": [
    {
     "name": "stdout",
     "output_type": "stream",
     "text": [
      "     Unnamed: 0    zip                  city                county state  \\\n",
      "5             6  90210         Beverly Hills    Los Angeles County    CA   \n",
      "6             7  93108         Santa Barbara  Santa Barbara County    CA   \n",
      "7             8  90402          Santa Monica    Los Angeles County    CA   \n",
      "8             9  94022             Los Altos    Santa Clara County    CA   \n",
      "10           11  94024             Los Altos    Santa Clara County    CA   \n",
      "11           12  94301             Palo Alto    Santa Clara County    CA   \n",
      "20           21  90265                Malibu    Los Angeles County    CA   \n",
      "21           21  90272           Los Angeles    Los Angeles County    CA   \n",
      "28           28  94920     Belvedere Tiburon          Marin County    CA   \n",
      "30           30  95030             Los Gatos    Santa Clara County    CA   \n",
      "37           36  92625        Corona Del Mar         Orange County    CA   \n",
      "43           40  91108            San Marino    Los Angeles County    CA   \n",
      "44           41  92651          Laguna Beach         Orange County    CA   \n",
      "46           43  90212         Beverly Hills    Los Angeles County    CA   \n",
      "47           44  94507                 Alamo   Contra Costa County    CA   \n",
      "53           50  85253       Paradise Valley       Maricopa County    AZ   \n",
      "54           51  10001              New York       New York County    NY   \n",
      "62           58   2554             Nantucket      Nantucket County    MA   \n",
      "63           58  94127         San Francisco  San Francisco County    CA   \n",
      "66           59  90048           Los Angeles    Los Angeles County    CA   \n",
      "67           59  94041         Mountain View    Santa Clara County    CA   \n",
      "68           59  91436                Encino    Los Angeles County    CA   \n",
      "69           60  90254         Hermosa Beach    Los Angeles County    CA   \n",
      "74           63  92118              Coronado      San Diego County    CA   \n",
      "75           64  10012              New York       New York County    NY   \n",
      "77           66  94705              Berkeley        Alameda County    CA   \n",
      "81           69  94563                Orinda   Contra Costa County    CA   \n",
      "82           69  91011  La Canada Flintridge    Los Angeles County    CA   \n",
      "87           72  10580                   Rye    Westchester County    NY   \n",
      "92           74   2493                Weston      Middlesex County    MA   \n",
      "93           74  92014               Del Mar      San Diego County    CA   \n",
      "94           75  94904             Greenbrae          Marin County    CA   \n",
      "95           76  92663         Newport Beach         Orange County    CA   \n",
      "96           77  94030              Millbrae      San Mateo County    CA   \n",
      "98           79  90232           Culver City    Los Angeles County    CA   \n",
      "100          81  93109         Santa Barbara  Santa Barbara County    CA   \n",
      "105          86   2481       Wellesley Hills        Norfolk County    MA   \n",
      "107          88  95130              San Jose    Santa Clara County    CA   \n",
      "110          90  93103         Santa Barbara  Santa Barbara County    CA   \n",
      "111          91  93923                Carmel       Monterey County    CA   \n",
      "116          94   6831             Greenwich      Fairfield County    CT   \n",
      "117          95  93110         Santa Barbara  Santa Barbara County    CA   \n",
      "121          95  94707              Berkeley        Alameda County    CA   \n",
      "122          96  11030             Manhasset         Nassau County    NY   \n",
      "123          97  94960           San Anselmo          Marin County    CA   \n",
      "\n",
      "           price  population  \n",
      "5    $4,125,000      19314.0  \n",
      "6    $4,103,000      10401.0  \n",
      "7    $4,058,000      11882.0  \n",
      "8    $4,052,000      19406.0  \n",
      "10   $3,856,000      23675.0  \n",
      "11   $3,800,000      16582.0  \n",
      "20   $3,250,000      17954.0  \n",
      "21   $3,250,000      21629.0  \n",
      "28   $3,050,000      12740.0  \n",
      "30   $2,995,000      13481.0  \n",
      "37   $2,695,000      12394.0  \n",
      "43   $2,490,000      13375.0  \n",
      "44   $2,475,000      24800.0  \n",
      "46   $2,429,000      13314.0  \n",
      "47   $2,400,000      15105.0  \n",
      "53   $2,175,000      18811.0  \n",
      "54   $2,171,000      24117.0  \n",
      "62   $2,000,000      10935.0  \n",
      "63   $2,000,000      21151.0  \n",
      "66   $1,985,000      21489.0  \n",
      "67   $1,985,000      14572.0  \n",
      "68   $1,985,000      15292.0  \n",
      "69   $1,980,000      19539.0  \n",
      "74   $1,940,000      22548.0  \n",
      "75   $1,935,000      23318.0  \n",
      "77   $1,913,000      13527.0  \n",
      "81   $1,900,000      19644.0  \n",
      "82   $1,900,000      20301.0  \n",
      "87   $1,861,000      17334.0  \n",
      "92   $1,850,000      12112.0  \n",
      "93   $1,850,000      13568.0  \n",
      "94   $1,849,000      12994.0  \n",
      "95   $1,845,000      21951.0  \n",
      "96   $1,840,000      22625.0  \n",
      "98   $1,819,000      14780.0  \n",
      "100  $1,805,000      10771.0  \n",
      "105  $1,756,000      16140.0  \n",
      "107  $1,700,000      14660.0  \n",
      "110  $1,682,000      20538.0  \n",
      "111  $1,665,000      12837.0  \n",
      "116  $1,653,000      14588.0  \n",
      "117  $1,650,000      16849.0  \n",
      "121  $1,650,000      11767.0  \n",
      "122  $1,647,000      18578.0  \n",
      "123  $1,645,000      15868.0  \n"
     ]
    }
   ],
   "source": [
    "# find pop 10-25k\n",
    "pop25k = merged_zips.loc[merged_zips['population'] <= 25000]\n",
    "pop10to25k = pop25k.loc[pop25k['population'] > 10000]\n",
    "print(pop10to25k)"
   ]
  },
  {
   "cell_type": "code",
   "execution_count": 12,
   "metadata": {},
   "outputs": [
    {
     "name": "stdout",
     "output_type": "stream",
     "text": [
      "     Unnamed: 0    zip                     city                county state  \\\n",
      "22           22  10013                 New York       New York County    NY   \n",
      "24           24  95070                 Saratoga    Santa Clara County    CA   \n",
      "27           27  94010  Hillsborough/Burlingame      San Mateo County    CA   \n",
      "32           32  90266          Manhattan Beach    Los Angeles County    CA   \n",
      "33           33  94306                Palo Alto    Santa Clara County    CA   \n",
      "40           39  94025               Menlo Park      San Mateo County    CA   \n",
      "41           39  94062             Redwood City      San Mateo County    CA   \n",
      "49           46  94123            San Francisco  San Francisco County    CA   \n",
      "55           52  90049              Los Angeles    Los Angeles County    CA   \n",
      "56           53  90274            Rolling Hills    Los Angeles County    CA   \n",
      "57           54  92660            Newport Beach         Orange County    CA   \n",
      "58           55  94040            Mountain View    Santa Clara County    CA   \n",
      "60           56  94070               San Carlos      San Mateo County    CA   \n",
      "61           57   6830                Greenwich      Fairfield County    CT   \n",
      "71           61  94402                San Mateo      San Mateo County    CA   \n",
      "73           62  94002                  Belmont      San Mateo County    CA   \n",
      "76           65  91302                Calabasas    Los Angeles County    CA   \n",
      "78           67  95032                Los Gatos    Santa Clara County    CA   \n",
      "79           68  90291                   Venice    Los Angeles County    CA   \n",
      "80           69  95129                 San Jose    Santa Clara County    CA   \n",
      "83           69  90036              Los Angeles    Los Angeles County    CA   \n",
      "86           71  94118            San Francisco  San Francisco County    CA   \n",
      "88           73  94506                 Danville   Contra Costa County    CA   \n",
      "91           74  95120                 San Jose    Santa Clara County    CA   \n",
      "97           78  94114            San Francisco  San Francisco County    CA   \n",
      "101          82  98040            Mercer Island           King County    WA   \n",
      "102          83  94549                Lafayette   Contra Costa County    CA   \n",
      "103          84  94061             Redwood City      San Mateo County    CA   \n",
      "104          85  94941              Mill Valley          Marin County    CA   \n",
      "106          87  94121            San Francisco  San Francisco County    CA   \n",
      "118          95  94131            San Francisco  San Francisco County    CA   \n",
      "124          98  90027              Los Angeles    Los Angeles County    CA   \n",
      "125          99  94303                Palo Alto    Santa Clara County    CA   \n",
      "\n",
      "           price  population  \n",
      "22   $3,212,000      28799.0  \n",
      "24   $3,150,000      31196.0  \n",
      "27   $3,075,000      42760.0  \n",
      "32   $2,910,000      35500.0  \n",
      "33   $2,810,000      27435.0  \n",
      "40   $2,500,000      43392.0  \n",
      "41   $2,500,000      28423.0  \n",
      "49   $2,307,000      25890.0  \n",
      "55   $2,165,000      36418.0  \n",
      "56   $2,118,000      25061.0  \n",
      "57   $2,111,000      35446.0  \n",
      "58   $2,100,000      36526.0  \n",
      "60   $2,055,000      31074.0  \n",
      "61   $2,050,000      25036.0  \n",
      "71   $1,968,000      25703.0  \n",
      "73   $1,950,000      27155.0  \n",
      "76   $1,925,000      26712.0  \n",
      "78   $1,911,000      26047.0  \n",
      "79   $1,907,000      26950.0  \n",
      "80   $1,900,000      39741.0  \n",
      "83   $1,900,000      37965.0  \n",
      "86   $1,868,000      42095.0  \n",
      "88   $1,860,000      25240.0  \n",
      "91   $1,850,000      38122.0  \n",
      "97   $1,830,000      34918.0  \n",
      "101  $1,795,000      25675.0  \n",
      "102  $1,775,000      29795.0  \n",
      "103  $1,773,000      39023.0  \n",
      "104  $1,758,000      32009.0  \n",
      "106  $1,701,000      43616.0  \n",
      "118  $1,650,000      29523.0  \n",
      "124  $1,640,000      44770.0  \n",
      "125  $1,633,000      48244.0  \n"
     ]
    }
   ],
   "source": [
    "# find pop 25-50k\n",
    "pop50k = merged_zips.loc[merged_zips['population'] <= 50000]\n",
    "pop25to50k = pop50k.loc[pop50k['population'] > 25000]\n",
    "print(pop25to50k)"
   ]
  },
  {
   "cell_type": "code",
   "execution_count": 13,
   "metadata": {},
   "outputs": [
    {
     "name": "stdout",
     "output_type": "stream",
     "text": [
      "     Unnamed: 0    zip           city                county state  \\\n",
      "48           45  95014      Cupertino    Santa Clara County    CA   \n",
      "52           49  94087      Sunnyvale    Santa Clara County    CA   \n",
      "126         100  94122  San Francisco  San Francisco County    CA   \n",
      "\n",
      "           price  population  \n",
      "48   $2,310,000      61866.0  \n",
      "52   $2,180,000      56668.0  \n",
      "126  $1,627,000      62128.0  \n"
     ]
    }
   ],
   "source": [
    "# find pop >50k\n",
    "pop50k = merged_zips.loc[merged_zips['population'] > 50000]\n",
    "print(pop50k)"
   ]
  },
  {
   "cell_type": "code",
   "execution_count": 14,
   "metadata": {},
   "outputs": [
    {
     "name": "stdout",
     "output_type": "stream",
     "text": [
      "Zipcodes with Most Expensive Houses by Population:\n",
      "Population <1k: 12\n",
      "Population 1 - 5k: 17\n",
      "Population 5 - 10k: 17\n",
      "Population 10 - 25k: 45\n",
      "Population 25 - 50k: 33\n",
      "Population >50k: 3\n"
     ]
    }
   ],
   "source": [
    "#how many in each\n",
    "zips1k = len(pop1k)\n",
    "# print(zips1k)\n",
    "zips1to5k = len(pop1to5k)\n",
    "# print(zips1to5k)\n",
    "zips5to10k = len(pop5to10k)\n",
    "# print(zips5to10k)\n",
    "zips10to25k = len(pop10to25k)\n",
    "# print(zips10to25k)\n",
    "zips25to50k = len(pop25to50k)\n",
    "# print(zips25to50k)\n",
    "zips50k = len(pop50k)\n",
    "# print(zips50k)\n",
    "\n",
    "print(\"Zipcodes with Most Expensive Houses by Population:\")\n",
    "print('Population <1k: ' + str(zips1k) + '\\nPopulation 1 - 5k: ' + str(zips1to5k) + '\\nPopulation 5 - 10k: ' + str(zips5to10k) + '\\nPopulation 10 - 25k: ' + str(zips10to25k) + '\\nPopulation 25 - 50k: ' + str(zips25to50k) + '\\nPopulation >50k: ' + str(zips50k))"
   ]
  },
  {
   "cell_type": "code",
   "execution_count": 66,
   "metadata": {},
   "outputs": [
    {
     "name": "stdout",
     "output_type": "stream",
     "text": [
      "Top 10 States, Counties, and Cities with Most Expensive Zips: \n",
      "\n",
      "state\n",
      "AZ     1\n",
      "FL     1\n",
      "MD     1\n",
      "NV     2\n",
      "WA     2\n",
      "NJ     3\n",
      "CT     4\n",
      "MA     7\n",
      "NY    17\n",
      "CA    89\n",
      "dtype: int64\n",
      "\n",
      "county\n",
      "Contra Costa County      5\n",
      "Santa Barbara County     5\n",
      "New York County          6\n",
      "Marin County             7\n",
      "San Francisco County     7\n",
      "Orange County            9\n",
      "Suffolk County           9\n",
      "San Mateo County        10\n",
      "Santa Clara County      15\n",
      "Los Angeles County      21\n",
      "dtype: int64\n",
      "\n",
      "city\n",
      "Greenwich        2\n",
      "Boston           2\n",
      "Beverly Hills    3\n",
      "San Jose         3\n",
      "Palo Alto        3\n",
      "Santa Barbara    4\n",
      "Newport Beach    5\n",
      "Los Angeles      6\n",
      "New York         6\n",
      "San Francisco    7\n",
      "dtype: int64\n"
     ]
    }
   ],
   "source": [
    "#counties w most zips in top 100\n",
    "print('Top 10 States, Counties, and Cities with Most Expensive Zips: \\n')\n",
    "\n",
    "state = (exp_zip.groupby('state').size()).sort_values()\n",
    "print(state.iloc[len(arr_state)-10:])\n",
    "print('')\n",
    "\n",
    "county = (exp_zip.groupby('county').size()).sort_values()\n",
    "# print(county)\n",
    "print(county.iloc[len(county)-10:])\n",
    "print('')\n",
    "\n",
    "city = (exp_zip.groupby('city').size()).sort_values()\n",
    "#print(city)\n",
    "print(city.iloc[len(city)-10:])"
   ]
  },
  {
   "cell_type": "code",
   "execution_count": 69,
   "metadata": {},
   "outputs": [
    {
     "name": "stdout",
     "output_type": "stream",
     "text": [
      "Number of States in the Most Expensize Zips: 10\n",
      "Number of Counties in the Most Expensize Zips: 30\n",
      "Number of Cities in the Most Expensize Zips: 91\n"
     ]
    }
   ],
   "source": [
    "# Unique\n",
    "print('Number of States in the Most Expensize Zips: ' + str(len(state)))\n",
    "print('Number of Counties in the Most Expensize Zips: ' + str(len(county)))\n",
    "print('Number of Cities in the Most Expensize Zips: ' + str(len(city)))\n"
   ]
  },
  {
   "cell_type": "raw",
   "metadata": {},
   "source": []
  },
  {
   "cell_type": "code",
   "execution_count": null,
   "metadata": {},
   "outputs": [],
   "source": []
  }
 ],
 "metadata": {
  "kernelspec": {
   "display_name": "Python 3",
   "language": "python",
   "name": "python3"
  },
  "language_info": {
   "codemirror_mode": {
    "name": "ipython",
    "version": 3
   },
   "file_extension": ".py",
   "mimetype": "text/x-python",
   "name": "python",
   "nbconvert_exporter": "python",
   "pygments_lexer": "ipython3",
   "version": "3.9.1"
  }
 },
 "nbformat": 4,
 "nbformat_minor": 4
}
